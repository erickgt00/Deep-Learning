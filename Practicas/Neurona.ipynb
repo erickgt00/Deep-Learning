{
  "nbformat": 4,
  "nbformat_minor": 0,
  "metadata": {
    "colab": {
      "provenance": [],
      "authorship_tag": "ABX9TyPRlo/eF4r2KdP4W3how24m",
      "include_colab_link": true
    },
    "kernelspec": {
      "name": "python3",
      "display_name": "Python 3"
    },
    "language_info": {
      "name": "python"
    }
  },
  "cells": [
    {
      "cell_type": "markdown",
      "metadata": {
        "id": "view-in-github",
        "colab_type": "text"
      },
      "source": [
        "<a href=\"https://colab.research.google.com/github/erickgt00/Deep-Learning/blob/main/Neurona.ipynb\" target=\"_parent\"><img src=\"https://colab.research.google.com/assets/colab-badge.svg\" alt=\"Open In Colab\"/></a>"
      ]
    },
    {
      "cell_type": "code",
      "execution_count": 1,
      "metadata": {
        "id": "9qR61yNhiMf5"
      },
      "outputs": [],
      "source": [
        "import pandas as pd\n",
        "import numpy as np\n",
        "import matplotlib.pyplot as plt"
      ]
    },
    {
      "cell_type": "code",
      "source": [
        "#DEFINIR PERCEPTRÓN 1\n",
        "\n",
        "def neurona1(x1,x2,x3): #Dentrita\n",
        "    w1=0.25 #Soma\n",
        "    w2=0.4 #Soma\n",
        "    w3=0.35 #Soma\n",
        "    bias=1.25 #Soma\n",
        "    z=w1*x1+w2*x2+w3*x3+bias #Soma\n",
        "    a1=max(0,z) #Axón\n",
        "    return a1\n",
        "\n",
        "neurona1(1,5,6)"
      ],
      "metadata": {
        "colab": {
          "base_uri": "https://localhost:8080/"
        },
        "id": "Cbpa07LQiUHs",
        "outputId": "5ab3b190-2bad-4f98-b925-148e39fbaf2d"
      },
      "execution_count": 2,
      "outputs": [
        {
          "output_type": "execute_result",
          "data": {
            "text/plain": [
              "5.6"
            ]
          },
          "metadata": {},
          "execution_count": 2
        }
      ]
    },
    {
      "cell_type": "code",
      "source": [
        "#DEFINIR PERCEPTRÓN 2 QUE TOMA EL OUTPUT DEL PERCEPTRÓN 1\n",
        "\n",
        "def neurona2(a1): #Dentrita\n",
        "    w1=0.3 #Soma\n",
        "    bias=0.85 #Soma\n",
        "    z=a1*w1+bias #Soma\n",
        "    a2=max(0,z) #Axón\n",
        "    return a2\n",
        "\n",
        "a1=neurona1(1,5,6)\n",
        "neurona2(a1)"
      ],
      "metadata": {
        "colab": {
          "base_uri": "https://localhost:8080/"
        },
        "id": "ORSQra_GiW1_",
        "outputId": "897a352c-2ea8-44b2-9d05-0e32b353a244"
      },
      "execution_count": 3,
      "outputs": [
        {
          "output_type": "execute_result",
          "data": {
            "text/plain": [
              "2.53"
            ]
          },
          "metadata": {},
          "execution_count": 3
        }
      ]
    }
  ]
}
