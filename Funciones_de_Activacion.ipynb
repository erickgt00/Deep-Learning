{
  "nbformat": 4,
  "nbformat_minor": 0,
  "metadata": {
    "colab": {
      "provenance": [],
      "authorship_tag": "ABX9TyMNQVa135C443iGZfleOmyU",
      "include_colab_link": true
    },
    "kernelspec": {
      "name": "python3",
      "display_name": "Python 3"
    },
    "language_info": {
      "name": "python"
    }
  },
  "cells": [
    {
      "cell_type": "markdown",
      "metadata": {
        "id": "view-in-github",
        "colab_type": "text"
      },
      "source": [
        "<a href=\"https://colab.research.google.com/github/erickgt00/Deep-Learning/blob/main/Funciones_de_Activacion.ipynb\" target=\"_parent\"><img src=\"https://colab.research.google.com/assets/colab-badge.svg\" alt=\"Open In Colab\"/></a>"
      ]
    },
    {
      "cell_type": "code",
      "execution_count": 1,
      "metadata": {
        "id": "IA9ZzEiMiw4p"
      },
      "outputs": [],
      "source": [
        "import pandas as pd\n",
        "import numpy as np\n",
        "import matplotlib.pyplot as plt"
      ]
    },
    {
      "cell_type": "code",
      "source": [
        "####The sigmoid function\n",
        "####################################################\n",
        "####################################################\n",
        "\n",
        "def sigmoid(x):\n",
        " return 1/ (1+np.exp(-x))"
      ],
      "metadata": {
        "id": "YwOSBdGWizzB"
      },
      "execution_count": 2,
      "outputs": []
    },
    {
      "cell_type": "code",
      "source": [
        "# setting the x - coordinates\n",
        "x = np.arange(-10,10)\n",
        "# setting the corresponding y - coordinates\n",
        "\n",
        "y =sigmoid(x)"
      ],
      "metadata": {
        "id": "wsoiVnDYi52t"
      },
      "execution_count": 3,
      "outputs": []
    },
    {
      "cell_type": "code",
      "source": [
        "# plotting the points\n",
        "plt.plot(x, y)"
      ],
      "metadata": {
        "colab": {
          "base_uri": "https://localhost:8080/",
          "height": 447
        },
        "id": "XXKhKifEi9R8",
        "outputId": "a766d97f-df59-4484-db8c-7aa6341c80b5"
      },
      "execution_count": 4,
      "outputs": [
        {
          "output_type": "execute_result",
          "data": {
            "text/plain": [
              "[<matplotlib.lines.Line2D at 0x7f35f2529cc0>]"
            ]
          },
          "metadata": {},
          "execution_count": 4
        },
        {
          "output_type": "display_data",
          "data": {
            "text/plain": [
              "<Figure size 640x480 with 1 Axes>"
            ],
            "image/png": "[encoded data removed]"
          },
          "metadata": {}
        }
      ]
    },
    {
      "cell_type": "code",
      "source": [
        "# function to show the plot\n",
        "plt.show()"
      ],
      "metadata": {
        "id": "iG6pw9grjANd"
      },
      "execution_count": 5,
      "outputs": []
    },
    {
      "cell_type": "code",
      "source": [
        "####The tanh function\n",
        "####################################################\n",
        "####################################################\n",
        "\n",
        "def tanh(x):\n",
        " numerator = 1-np.exp(-2*x)\n",
        " denominator = 1+np.exp(-2*x)\n",
        " return numerator/denominator"
      ],
      "metadata": {
        "id": "lUf3Gi0WjFBh"
      },
      "execution_count": 6,
      "outputs": []
    },
    {
      "cell_type": "code",
      "source": [
        "####The RELU function\n",
        "####################################################\n",
        "####################################################\n",
        "\n",
        "def RELU(x):\n",
        " return max(0,x)"
      ],
      "metadata": {
        "id": "xCsTBs0FjF0s"
      },
      "execution_count": 7,
      "outputs": []
    },
    {
      "cell_type": "code",
      "source": [
        "###The leaky ReLU function\n",
        "####################################################\n",
        "####################################################\n",
        "\n",
        "def leakyRELU(x):\n",
        " if x<0:\n",
        "  a=0.01*x\n",
        " else:\n",
        "  a=x\n",
        " return a"
      ],
      "metadata": {
        "id": "Lss2P0mCjIcp"
      },
      "execution_count": 8,
      "outputs": []
    },
    {
      "cell_type": "code",
      "source": [
        "###The Exponential linear unit function\n",
        "####################################################\n",
        "####################################################\n",
        "\n",
        "def ELU(x):\n",
        " if x<0:\n",
        "    a=(0.01*(np.exp(x)-1))\n",
        " else:\n",
        "    a=x\n",
        " return a"
      ],
      "metadata": {
        "id": "gSY4yhsOjKk_"
      },
      "execution_count": 9,
      "outputs": []
    },
    {
      "cell_type": "code",
      "source": [
        "###The Swiss Function\n",
        "####################################################\n",
        "####################################################\n",
        "\n",
        "def swish(x):\n",
        " return 2*x*sigmoid(0.5*x)"
      ],
      "metadata": {
        "id": "gL1D69z-jM-X"
      },
      "execution_count": 10,
      "outputs": []
    },
    {
      "cell_type": "code",
      "source": [
        "###The softmax function\n",
        "####################################################\n",
        "####################################################\n",
        "\n",
        "def softmax(x):\n",
        " return np.exp(x) / np.exp(x).sum(axis=0)"
      ],
      "metadata": {
        "id": "Q8l_Ov0ejPBG"
      },
      "execution_count": 11,
      "outputs": []
    }
  ]
}