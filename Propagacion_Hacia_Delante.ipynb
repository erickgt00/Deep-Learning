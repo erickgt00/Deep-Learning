{
  "nbformat": 4,
  "nbformat_minor": 0,
  "metadata": {
    "colab": {
      "provenance": [],
      "authorship_tag": "ABX9TyMuO4RmG4LlBk3vT+LqWEO1",
      "include_colab_link": true
    },
    "kernelspec": {
      "name": "python3",
      "display_name": "Python 3"
    },
    "language_info": {
      "name": "python"
    }
  },
  "cells": [
    {
      "cell_type": "markdown",
      "metadata": {
        "id": "view-in-github",
        "colab_type": "text"
      },
      "source": [
        "<a href=\"https://colab.research.google.com/github/erickgt00/Deep-Learning/blob/main/Propagacion_Hacia_Delante.ipynb\" target=\"_parent\"><img src=\"https://colab.research.google.com/assets/colab-badge.svg\" alt=\"Open In Colab\"/></a>"
      ]
    },
    {
      "cell_type": "markdown",
      "source": [
        "# Propagacion hacia delante Deep Learning"
      ],
      "metadata": {
        "id": "UNWvsSEeFLJS"
      }
    },
    {
      "cell_type": "code",
      "execution_count": 1,
      "metadata": {
        "id": "D-WRRyvcFJrE"
      },
      "outputs": [],
      "source": [
        "import pandas as pd\n",
        "import numpy as np"
      ]
    },
    {
      "cell_type": "markdown",
      "source": [
        "1. Una capa de entreda con dos inputs, x1 y x2\n",
        "2. Una capa oculta con 4 neuronas h1, h2, h3 y h4\n",
        "3. Una capa de salida con 1 neurona $o_1$"
      ],
      "metadata": {
        "id": "xolAnc6aFeNO"
      }
    },
    {
      "cell_type": "code",
      "source": [
        "# Inicializar los pesos de las 4 neuronas de la capa oculta\n",
        "\n",
        "Wxh = np.array([[0.2, 0.65, 0.45,0.12],\n",
        "                [0.8, 0.35, 0.55, 0.15]])\n",
        "print(Wxh)"
      ],
      "metadata": {
        "colab": {
          "base_uri": "https://localhost:8080/"
        },
        "id": "CxdfjVHXF4Sd",
        "outputId": "e4b95de8-8d3f-42d3-cf32-a0619f1b6f22"
      },
      "execution_count": 3,
      "outputs": [
        {
          "output_type": "stream",
          "name": "stdout",
          "text": [
            "[[0.2  0.65 0.45 0.12]\n",
            " [0.8  0.35 0.55 0.15]]\n"
          ]
        }
      ]
    },
    {
      "cell_type": "code",
      "source": [
        "# Inicializar los pesos de la neurona en la capa de salida\n",
        "Why = np.array([[0.2],\n",
        "               [0.35],\n",
        "               [0.45],\n",
        "               [0.52]])\n",
        "print(Why)"
      ],
      "metadata": {
        "colab": {
          "base_uri": "https://localhost:8080/"
        },
        "id": "6zYmCBNWGirs",
        "outputId": "9e215bd4-20f6-4a82-9a3d-8eb67c01de71"
      },
      "execution_count": 4,
      "outputs": [
        {
          "output_type": "stream",
          "name": "stdout",
          "text": [
            "[[0.2 ]\n",
            " [0.35]\n",
            " [0.45]\n",
            " [0.52]]\n"
          ]
        }
      ]
    },
    {
      "cell_type": "code",
      "source": [
        "# Inicializar los sesgos\n",
        "bh = np.array([0.2, 0.15, 0.45, 0.23])\n",
        "by= 0.5\n",
        "print(bh)"
      ],
      "metadata": {
        "colab": {
          "base_uri": "https://localhost:8080/"
        },
        "id": "yp_MQvQEG539",
        "outputId": "3c64c078-63dd-412b-83fd-d4e69d859f25"
      },
      "execution_count": 9,
      "outputs": [
        {
          "output_type": "stream",
          "name": "stdout",
          "text": [
            "[0.2  0.15 0.45 0.23]\n"
          ]
        }
      ]
    },
    {
      "cell_type": "code",
      "source": [
        "# Definir una función de activación (Sigmoide o Logit)\n",
        "def sigmoid(x):\n",
        "  return 1/(1+np.exp(-x))"
      ],
      "metadata": {
        "id": "2lyWolE9HM3S"
      },
      "execution_count": 10,
      "outputs": []
    },
    {
      "cell_type": "code",
      "source": [
        "# Definir la propagación hacia delante\n",
        "def forward_prop(x):\n",
        "  z1 = np.dot(x,Wxh)+bh   # Capa Oculta (1x2)(2x4)=(1x4)\n",
        "  a1 = sigmoid(z1)    # Capa Oculta (1x4)\n",
        "  z2 = np.dot(a1,Why)+by   # Capa de Salida (1x4)(4x1)=(1x1)\n",
        "  y_gorro = sigmoid(z2) # Capa de Salida (1x1)\n",
        "  return y_gorro"
      ],
      "metadata": {
        "id": "yCvbz6_wHc-C"
      },
      "execution_count": 11,
      "outputs": []
    },
    {
      "cell_type": "code",
      "source": [
        "# Definir un vector de inputs para estimar y_gorro\n",
        "x = np.array([1.75,70]) # Altura y peso de una persona\n",
        "y_gorro = forward_prop(x)\n",
        "y_gorro"
      ],
      "metadata": {
        "colab": {
          "base_uri": "https://localhost:8080/"
        },
        "id": "iXwlRZtxIe84",
        "outputId": "a5817da5-4fd9-4ce8-a4c2-5caf418b9625"
      },
      "execution_count": 12,
      "outputs": [
        {
          "output_type": "execute_result",
          "data": {
            "text/plain": [
              "array([0.88288006])"
            ]
          },
          "metadata": {},
          "execution_count": 12
        }
      ]
    },
    {
      "cell_type": "markdown",
      "source": [
        "Nuestro $\\hat{y}$ puede representar la probabilidad de que sufra una enfermedad o sobre peso, todo esto dependerá de nuestro data set."
      ],
      "metadata": {
        "id": "2RYjQFUKLxBp"
      }
    }
  ]
}