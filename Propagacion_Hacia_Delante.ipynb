{
  "nbformat": 4,
  "nbformat_minor": 0,
  "metadata": {
    "colab": {
      "provenance": [],
      "authorship_tag": "ABX9TyOYGMg7AwIrnS4Rfb9iyb3A",
      "include_colab_link": true
    },
    "kernelspec": {
      "name": "python3",
      "display_name": "Python 3"
    },
    "language_info": {
      "name": "python"
    }
  },
  "cells": [
    {
      "cell_type": "markdown",
      "metadata": {
        "id": "view-in-github",
        "colab_type": "text"
      },
      "source": [
        "<a href=\"https://colab.research.google.com/github/erickgt00/Deep-Learning/blob/main/Propagacion_Hacia_Delante.ipynb\" target=\"_parent\"><img src=\"https://colab.research.google.com/assets/colab-badge.svg\" alt=\"Open In Colab\"/></a>"
      ]
    },
    {
      "cell_type": "markdown",
      "source": [
        "# Propagacion Hacia Delante"
      ],
      "metadata": {
        "id": "UNWvsSEeFLJS"
      }
    },
    {
      "cell_type": "code",
      "execution_count": 1,
      "metadata": {
        "id": "D-WRRyvcFJrE"
      },
      "outputs": [],
      "source": [
        "import pandas as pd\n",
        "import numpy as np"
      ]
    },
    {
      "cell_type": "markdown",
      "source": [
        "1. Una capa de entreda con dos inputs, x1 y x2\n",
        "2. Una capa oculta con 4 neuronas h1, h2, h3 y h4\n",
        "3. Una capa de salida con 1 neurona $o_1$"
      ],
      "metadata": {
        "id": "xolAnc6aFeNO"
      }
    },
    {
      "cell_type": "code",
      "source": [
        "# Inicializar los pesos de las 4 neuronas de la capa oculta\n",
        "\n",
        "Wxh = np.array([[0.2, 0.65, 0.45,0.12],\n",
        "                [0.8, 0.35, 0.55, 0.15]])\n",
        "print(Wxh)"
      ],
      "metadata": {
        "colab": {
          "base_uri": "https://localhost:8080/"
        },
        "id": "CxdfjVHXF4Sd",
        "outputId": "e4b95de8-8d3f-42d3-cf32-a0619f1b6f22"
      },
      "execution_count": 3,
      "outputs": [
        {
          "output_type": "stream",
          "name": "stdout",
          "text": [
            "[[0.2  0.65 0.45 0.12]\n",
            " [0.8  0.35 0.55 0.15]]\n"
          ]
        }
      ]
    },
    {
      "cell_type": "code",
      "source": [
        "# Inicializar los pesos de la neurona en la capa de salida\n",
        "Why = np.array([[0.2],\n",
        "               [0.35],\n",
        "               [0.45],\n",
        "               [0.52]])\n",
        "print(Why)"
      ],
      "metadata": {
        "colab": {
          "base_uri": "https://localhost:8080/"
        },
        "id": "6zYmCBNWGirs",
        "outputId": "9e215bd4-20f6-4a82-9a3d-8eb67c01de71"
      },
      "execution_count": 4,
      "outputs": [
        {
          "output_type": "stream",
          "name": "stdout",
          "text": [
            "[[0.2 ]\n",
            " [0.35]\n",
            " [0.45]\n",
            " [0.52]]\n"
          ]
        }
      ]
    },
    {
      "cell_type": "code",
      "source": [
        "# Inicializar los sesgos\n",
        "bh = np.array([0.2, 0.15, 0.45, 0.23])\n",
        "by= 0.5\n",
        "print(bh)"
      ],
      "metadata": {
        "colab": {
          "base_uri": "https://localhost:8080/"
        },
        "id": "yp_MQvQEG539",
        "outputId": "3c64c078-63dd-412b-83fd-d4e69d859f25"
      },
      "execution_count": 9,
      "outputs": [
        {
          "output_type": "stream",
          "name": "stdout",
          "text": [
            "[0.2  0.15 0.45 0.23]\n"
          ]
        }
      ]
    },
    {
      "cell_type": "code",
      "source": [
        "# Definir una función de activación (Sigmoide o Logit)\n",
        "def sigmoid(x):\n",
        "  return 1/(1+np.exp(-x))"
      ],
      "metadata": {
        "id": "2lyWolE9HM3S"
      },
      "execution_count": 10,
      "outputs": []
    },
    {
      "cell_type": "code",
      "source": [
        "# Definir la propagación hacia delante\n",
        "def forward_prop(x):\n",
        "  z1 = np.dot(x,Wxh)+bh   # Capa Oculta (1x2)(2x4)=(1x4)\n",
        "  a1 = sigmoid(z1)    # Capa Oculta (1x4)\n",
        "  z2 = np.dot(a1,Why)+by   # Capa de Salida (1x4)(4x1)=(1x1)\n",
        "  y_gorro = sigmoid(z2) # Capa de Salida (1x1)\n",
        "  return y_gorro"
      ],
      "metadata": {
        "id": "yCvbz6_wHc-C"
      },
      "execution_count": 13,
      "outputs": []
    },
    {
      "cell_type": "code",
      "source": [
        "# Definir un vector de inputs para estimar y_gorro\n",
        "x = np.array([1.75,70]) # Altura y peso de una persona\n",
        "y_gorro = forward_prop(x)\n",
        "y_gorro"
      ],
      "metadata": {
        "colab": {
          "base_uri": "https://localhost:8080/"
        },
        "id": "iXwlRZtxIe84",
        "outputId": "f0ef99ea-8660-4875-b85c-0f3a9f53b782"
      },
      "execution_count": 14,
      "outputs": [
        {
          "output_type": "execute_result",
          "data": {
            "text/plain": [
              "array([0.88288006])"
            ]
          },
          "metadata": {},
          "execution_count": 14
        }
      ]
    },
    {
      "cell_type": "markdown",
      "source": [
        "Nuestro $\\hat{y}$ puede representar la probabilidad de que sufra una enfermedad o sobre peso, todo esto dependerá de nuestro data set."
      ],
      "metadata": {
        "id": "2RYjQFUKLxBp"
      }
    },
    {
      "cell_type": "markdown",
      "source": [
        "# Propagación Hacia Atras"
      ],
      "metadata": {
        "id": "1c4WMS85fQkR"
      }
    },
    {
      "cell_type": "code",
      "source": [
        "import pandas as pd\n",
        "import numpy as np\n",
        "import matplotlib.pyplot as plt\n"
      ],
      "metadata": {
        "id": "P3m_J6tmfTou"
      },
      "execution_count": 15,
      "outputs": []
    },
    {
      "cell_type": "code",
      "source": [
        "#Definir función sigmoide\n",
        "def sigmoid(x):\n",
        " return 1/ (1+np.exp(-x))"
      ],
      "metadata": {
        "id": "yvXZKhfJfWe8"
      },
      "execution_count": 16,
      "outputs": []
    },
    {
      "cell_type": "code",
      "source": [
        "#Inicializar los pesos de las 3 neuronas de la capa oculta.\n",
        "\n",
        "Wxh=np.array([[0.2,0.65,0.45,0.34],\n",
        "             [0.8,0.35,0.55,0.21]])\n",
        "print(Wxh)"
      ],
      "metadata": {
        "colab": {
          "base_uri": "https://localhost:8080/"
        },
        "id": "0mURJTwUfYyb",
        "outputId": "bb7b7f82-80ad-4449-b81d-3dd12123ea67"
      },
      "execution_count": 17,
      "outputs": [
        {
          "output_type": "stream",
          "name": "stdout",
          "text": [
            "[[0.2  0.65 0.45 0.34]\n",
            " [0.8  0.35 0.55 0.21]]\n"
          ]
        }
      ]
    },
    {
      "cell_type": "code",
      "source": [
        "#Inicializar pesos en la neurona de salida.\n",
        "\n",
        "Why=np.array([[0.15],\n",
        "             [0.3],\n",
        "             [0.45],\n",
        "             [0.1]])\n",
        "print(Why)"
      ],
      "metadata": {
        "colab": {
          "base_uri": "https://localhost:8080/"
        },
        "id": "0_z-YuQrfce6",
        "outputId": "f3cce427-da4e-4071-ef2d-5b0725b79a23"
      },
      "execution_count": 18,
      "outputs": [
        {
          "output_type": "stream",
          "name": "stdout",
          "text": [
            "[[0.15]\n",
            " [0.3 ]\n",
            " [0.45]\n",
            " [0.1 ]]\n"
          ]
        }
      ]
    },
    {
      "cell_type": "code",
      "source": [
        "#Inicializar sesgo de las neuronas en la capa oculta.\n",
        "\n",
        "bh=np.array([[0.2,0.15,0.45,0.1]])\n",
        "\n",
        "print(bh)"
      ],
      "metadata": {
        "colab": {
          "base_uri": "https://localhost:8080/"
        },
        "id": "SuP7OyZofhuI",
        "outputId": "789b7ea2-480a-4456-f39b-bbefc242d3b3"
      },
      "execution_count": 19,
      "outputs": [
        {
          "output_type": "stream",
          "name": "stdout",
          "text": [
            "[[0.2  0.15 0.45 0.1 ]]\n"
          ]
        }
      ]
    },
    {
      "cell_type": "code",
      "source": [
        "#Definir la forward propagation.\n",
        "\n",
        "def forward_prop(X):\n",
        " z1 = np.dot(X,Wxh) + bh\n",
        " a1 = sigmoid(z1)\n",
        " z2 = np.dot(a1,Why) + by\n",
        " y_hat = sigmoid(z2)\n",
        " return y_hat"
      ],
      "metadata": {
        "id": "ur8iT6gvfoE_"
      },
      "execution_count": 20,
      "outputs": []
    },
    {
      "cell_type": "code",
      "source": [
        "#Definir la back propagation.\n",
        "\n",
        "def backword_prop(y_hat, z1, a1, z2,alpha):\n",
        " global Wxh, Why\n",
        " delta2 = np.multiply(-(y-y_hat),sigmoidPrime(z2))\n",
        " dJ_dWhy = np.dot(a1.T, delta2)\n",
        " delta1 = np.dot(delta2,Why.T)*sigmoidPrime(z1)\n",
        " dJ_dWxh = np.dot(X.T, delta1)\n",
        " Wxh = Wxh - alpha * dJ_dWxh\n",
        " Why = Why - alpha * dJ_dWhy\n",
        " return Wxh,Why"
      ],
      "metadata": {
        "id": "kGc8KRr2fsgn"
      },
      "execution_count": 21,
      "outputs": []
    },
    {
      "cell_type": "code",
      "source": [
        "#Reecalcular parámetros\n",
        "X = np.array([1.75,70]) # Altura y peso de una persona\n",
        "y = 0.70\n",
        "y_hat=forward_prop(X)\n",
        "z1 = np.dot(X,Wxh) + bh\n",
        "a1 = sigmoid(z1)\n",
        "z2 = np.dot(a1,Why) + by\n",
        "alpha=0.025\n",
        "\n",
        "backword_prop(y_hat, z1, a1, z2,alpha)"
      ],
      "metadata": {
        "colab": {
          "base_uri": "https://localhost:8080/",
          "height": 322
        },
        "id": "vL7KAcWFfv3-",
        "outputId": "e4bf8676-9e29-40e9-dc95-c14bcd463929"
      },
      "execution_count": 26,
      "outputs": [
        {
          "output_type": "error",
          "ename": "NameError",
          "evalue": "ignored",
          "traceback": [
            "\u001b[0;31m---------------------------------------------------------------------------\u001b[0m",
            "\u001b[0;31mNameError\u001b[0m                                 Traceback (most recent call last)",
            "\u001b[0;32m<ipython-input-26-8ebdcce3ff0d>\u001b[0m in \u001b[0;36m<cell line: 10>\u001b[0;34m()\u001b[0m\n\u001b[1;32m      8\u001b[0m \u001b[0malpha\u001b[0m\u001b[0;34m=\u001b[0m\u001b[0;36m0.025\u001b[0m\u001b[0;34m\u001b[0m\u001b[0;34m\u001b[0m\u001b[0m\n\u001b[1;32m      9\u001b[0m \u001b[0;34m\u001b[0m\u001b[0m\n\u001b[0;32m---> 10\u001b[0;31m \u001b[0mbackword_prop\u001b[0m\u001b[0;34m(\u001b[0m\u001b[0my_hat\u001b[0m\u001b[0;34m,\u001b[0m \u001b[0mz1\u001b[0m\u001b[0;34m,\u001b[0m \u001b[0ma1\u001b[0m\u001b[0;34m,\u001b[0m \u001b[0mz2\u001b[0m\u001b[0;34m,\u001b[0m\u001b[0malpha\u001b[0m\u001b[0;34m)\u001b[0m\u001b[0;34m\u001b[0m\u001b[0;34m\u001b[0m\u001b[0m\n\u001b[0m",
            "\u001b[0;32m<ipython-input-21-66c86e4a015d>\u001b[0m in \u001b[0;36mbackword_prop\u001b[0;34m(y_hat, z1, a1, z2, alpha)\u001b[0m\n\u001b[1;32m      3\u001b[0m \u001b[0;32mdef\u001b[0m \u001b[0mbackword_prop\u001b[0m\u001b[0;34m(\u001b[0m\u001b[0my_hat\u001b[0m\u001b[0;34m,\u001b[0m \u001b[0mz1\u001b[0m\u001b[0;34m,\u001b[0m \u001b[0ma1\u001b[0m\u001b[0;34m,\u001b[0m \u001b[0mz2\u001b[0m\u001b[0;34m,\u001b[0m\u001b[0malpha\u001b[0m\u001b[0;34m)\u001b[0m\u001b[0;34m:\u001b[0m\u001b[0;34m\u001b[0m\u001b[0;34m\u001b[0m\u001b[0m\n\u001b[1;32m      4\u001b[0m  \u001b[0;32mglobal\u001b[0m \u001b[0mWxh\u001b[0m\u001b[0;34m,\u001b[0m \u001b[0mWhy\u001b[0m\u001b[0;34m\u001b[0m\u001b[0;34m\u001b[0m\u001b[0m\n\u001b[0;32m----> 5\u001b[0;31m  \u001b[0mdelta2\u001b[0m \u001b[0;34m=\u001b[0m \u001b[0mnp\u001b[0m\u001b[0;34m.\u001b[0m\u001b[0mmultiply\u001b[0m\u001b[0;34m(\u001b[0m\u001b[0;34m-\u001b[0m\u001b[0;34m(\u001b[0m\u001b[0my\u001b[0m\u001b[0;34m-\u001b[0m\u001b[0my_hat\u001b[0m\u001b[0;34m)\u001b[0m\u001b[0;34m,\u001b[0m\u001b[0msigmoidPrime\u001b[0m\u001b[0;34m(\u001b[0m\u001b[0mz2\u001b[0m\u001b[0;34m)\u001b[0m\u001b[0;34m)\u001b[0m\u001b[0;34m\u001b[0m\u001b[0;34m\u001b[0m\u001b[0m\n\u001b[0m\u001b[1;32m      6\u001b[0m  \u001b[0mdJ_dWhy\u001b[0m \u001b[0;34m=\u001b[0m \u001b[0mnp\u001b[0m\u001b[0;34m.\u001b[0m\u001b[0mdot\u001b[0m\u001b[0;34m(\u001b[0m\u001b[0ma1\u001b[0m\u001b[0;34m.\u001b[0m\u001b[0mT\u001b[0m\u001b[0;34m,\u001b[0m \u001b[0mdelta2\u001b[0m\u001b[0;34m)\u001b[0m\u001b[0;34m\u001b[0m\u001b[0;34m\u001b[0m\u001b[0m\n\u001b[1;32m      7\u001b[0m  \u001b[0mdelta1\u001b[0m \u001b[0;34m=\u001b[0m \u001b[0mnp\u001b[0m\u001b[0;34m.\u001b[0m\u001b[0mdot\u001b[0m\u001b[0;34m(\u001b[0m\u001b[0mdelta2\u001b[0m\u001b[0;34m,\u001b[0m\u001b[0mWhy\u001b[0m\u001b[0;34m.\u001b[0m\u001b[0mT\u001b[0m\u001b[0;34m)\u001b[0m\u001b[0;34m*\u001b[0m\u001b[0msigmoidPrime\u001b[0m\u001b[0;34m(\u001b[0m\u001b[0mz1\u001b[0m\u001b[0;34m)\u001b[0m\u001b[0;34m\u001b[0m\u001b[0;34m\u001b[0m\u001b[0m\n",
            "\u001b[0;31mNameError\u001b[0m: name 'sigmoidPrime' is not defined"
          ]
        }
      ]
    },
    {
      "cell_type": "code",
      "source": [
        "#Definir fución de predicción.\n",
        "\n",
        "def pred(X):\n",
        " z1 = np.dot(X,Wxh) + bh\n",
        " a1 = sigmoid(z1)\n",
        " z2 = np.dot(a1,Why) + by\n",
        " y_hat = sigmoid(z2)\n",
        " return y_hat"
      ],
      "metadata": {
        "id": "bTARsFAJgczc"
      },
      "execution_count": 25,
      "outputs": []
    }
  ]
}